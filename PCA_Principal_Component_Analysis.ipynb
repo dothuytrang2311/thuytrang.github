{
 "cells": [
  {
   "cell_type": "markdown",
   "id": "0650fc5d",
   "metadata": {},
   "source": [
    "# Steps of PCA\n",
    "- Step1: Mean subtraction and standardization --> data: normal distribution: X_k = X_k - X_mean -> E(x) = u = 0\n",
    "- Step2: Tính ma trận hiệp phương sai: S = 1/(N-sample) * X * X^T\n",
    "- Step3: Find Eigenvalue of matrix S: (lamda)--> increasing\n",
    "- Step4: Lấy k trị riêng có giá trị lớn nhất, tạo ma trận B(U) với các hàng là các vector riêng ứng với k trị riêng đã chọn\n",
    "- Step5: Ánh xạ không gian ban đầu sang không gian k chiều: X_{new} = Z = B*X"
   ]
  },
  {
   "cell_type": "markdown",
   "id": "b52d7bae",
   "metadata": {},
   "source": [
    "# Exercise2: Implement thuật toán PCA bằng numpy"
   ]
  },
  {
   "cell_type": "code",
   "execution_count": 8,
   "id": "7727d6b2",
   "metadata": {},
   "outputs": [],
   "source": [
    "import numpy as np\n",
    "import pandas as pd\n",
    "import matplotlib.pyplot as plt\n",
    "from sklearn import datasets\n",
    "\n",
    "data = pd.read_csv('iris (1).csv')\n"
   ]
  },
  {
   "cell_type": "code",
   "execution_count": 9,
   "id": "bd7518da",
   "metadata": {},
   "outputs": [
    {
     "data": {
      "text/html": [
       "<div>\n",
       "<style scoped>\n",
       "    .dataframe tbody tr th:only-of-type {\n",
       "        vertical-align: middle;\n",
       "    }\n",
       "\n",
       "    .dataframe tbody tr th {\n",
       "        vertical-align: top;\n",
       "    }\n",
       "\n",
       "    .dataframe thead th {\n",
       "        text-align: right;\n",
       "    }\n",
       "</style>\n",
       "<table border=\"1\" class=\"dataframe\">\n",
       "  <thead>\n",
       "    <tr style=\"text-align: right;\">\n",
       "      <th></th>\n",
       "      <th>sepal_length</th>\n",
       "      <th>sepal_width</th>\n",
       "      <th>petal_length</th>\n",
       "      <th>petal_width</th>\n",
       "      <th>species</th>\n",
       "    </tr>\n",
       "  </thead>\n",
       "  <tbody>\n",
       "    <tr>\n",
       "      <th>0</th>\n",
       "      <td>5.1</td>\n",
       "      <td>3.5</td>\n",
       "      <td>1.4</td>\n",
       "      <td>0.2</td>\n",
       "      <td>setosa</td>\n",
       "    </tr>\n",
       "    <tr>\n",
       "      <th>1</th>\n",
       "      <td>4.9</td>\n",
       "      <td>3.0</td>\n",
       "      <td>1.4</td>\n",
       "      <td>0.2</td>\n",
       "      <td>setosa</td>\n",
       "    </tr>\n",
       "    <tr>\n",
       "      <th>2</th>\n",
       "      <td>4.7</td>\n",
       "      <td>3.2</td>\n",
       "      <td>1.3</td>\n",
       "      <td>0.2</td>\n",
       "      <td>setosa</td>\n",
       "    </tr>\n",
       "    <tr>\n",
       "      <th>3</th>\n",
       "      <td>4.6</td>\n",
       "      <td>3.1</td>\n",
       "      <td>1.5</td>\n",
       "      <td>0.2</td>\n",
       "      <td>setosa</td>\n",
       "    </tr>\n",
       "    <tr>\n",
       "      <th>4</th>\n",
       "      <td>5.0</td>\n",
       "      <td>3.6</td>\n",
       "      <td>1.4</td>\n",
       "      <td>0.2</td>\n",
       "      <td>setosa</td>\n",
       "    </tr>\n",
       "    <tr>\n",
       "      <th>5</th>\n",
       "      <td>5.4</td>\n",
       "      <td>3.9</td>\n",
       "      <td>1.7</td>\n",
       "      <td>0.4</td>\n",
       "      <td>setosa</td>\n",
       "    </tr>\n",
       "    <tr>\n",
       "      <th>6</th>\n",
       "      <td>4.6</td>\n",
       "      <td>3.4</td>\n",
       "      <td>1.4</td>\n",
       "      <td>0.3</td>\n",
       "      <td>setosa</td>\n",
       "    </tr>\n",
       "    <tr>\n",
       "      <th>7</th>\n",
       "      <td>5.0</td>\n",
       "      <td>3.4</td>\n",
       "      <td>1.5</td>\n",
       "      <td>0.2</td>\n",
       "      <td>setosa</td>\n",
       "    </tr>\n",
       "    <tr>\n",
       "      <th>8</th>\n",
       "      <td>4.4</td>\n",
       "      <td>2.9</td>\n",
       "      <td>1.4</td>\n",
       "      <td>0.2</td>\n",
       "      <td>setosa</td>\n",
       "    </tr>\n",
       "    <tr>\n",
       "      <th>9</th>\n",
       "      <td>4.9</td>\n",
       "      <td>3.1</td>\n",
       "      <td>1.5</td>\n",
       "      <td>0.1</td>\n",
       "      <td>setosa</td>\n",
       "    </tr>\n",
       "  </tbody>\n",
       "</table>\n",
       "</div>"
      ],
      "text/plain": [
       "   sepal_length  sepal_width  petal_length  petal_width species\n",
       "0           5.1          3.5           1.4          0.2  setosa\n",
       "1           4.9          3.0           1.4          0.2  setosa\n",
       "2           4.7          3.2           1.3          0.2  setosa\n",
       "3           4.6          3.1           1.5          0.2  setosa\n",
       "4           5.0          3.6           1.4          0.2  setosa\n",
       "5           5.4          3.9           1.7          0.4  setosa\n",
       "6           4.6          3.4           1.4          0.3  setosa\n",
       "7           5.0          3.4           1.5          0.2  setosa\n",
       "8           4.4          2.9           1.4          0.2  setosa\n",
       "9           4.9          3.1           1.5          0.1  setosa"
      ]
     },
     "execution_count": 9,
     "metadata": {},
     "output_type": "execute_result"
    }
   ],
   "source": [
    "data.head(10)"
   ]
  },
  {
   "cell_type": "code",
   "execution_count": 10,
   "id": "ee749e75",
   "metadata": {},
   "outputs": [
    {
     "data": {
      "text/plain": [
       "array(['setosa', 'versicolor', 'virginica'], dtype=object)"
      ]
     },
     "execution_count": 10,
     "metadata": {},
     "output_type": "execute_result"
    }
   ],
   "source": [
    "data['species'].unique()"
   ]
  },
  {
   "cell_type": "code",
   "execution_count": 11,
   "id": "e8b6ba57",
   "metadata": {},
   "outputs": [],
   "source": [
    "class PCA:\n",
    "    def __init__(self, n_dimention : int):\n",
    "        self.n_dimention = n_dimention\n",
    "    def fit_transform(self, X):\n",
    "        mean = np.mean(X, axis = 0)\n",
    "        X = X - mean\n",
    "        cov = X.T.dot(X) / X.shape[0]\n",
    "        eigen_values, eigen_vextors = np.linalg.eig(cov)\n",
    "        select_index = np.argsort(eigen_values)[::-1][:self.n_dimention]\n",
    "        B = eigen_vextors[:, select_index]\n",
    "        X_new = X.dot(B)\n",
    "        return X_new\n",
    " "
   ]
  },
  {
   "cell_type": "markdown",
   "id": "ce9aef63",
   "metadata": {},
   "source": [
    "# Exercise3: Reduce dimention of the iris dataset use PCA in exercise 2"
   ]
  },
  {
   "cell_type": "code",
   "execution_count": 12,
   "id": "a27d7f76",
   "metadata": {},
   "outputs": [
    {
     "data": {
      "image/png": "[encoded data removed]",
      "text/plain": [
       "<Figure size 432x288 with 1 Axes>"
      ]
     },
     "metadata": {
      "needs_background": "light"
     },
     "output_type": "display_data"
    }
   ],
   "source": [
    "# a: Visualize dữ liệu giảm chiều với scatter plot và label của hoa   \n",
    "    if __name__ == \"__main__\":\n",
    "    data = data\n",
    "    X = data[[\"sepal_length\", \"sepal_width\", \"petal_length\", \"petal_width\"]].to_numpy()\n",
    "    Y = data[\"species\"].to_numpy()\n",
    "    pca = PCA(n_dimention = 2)\n",
    "    new_X = pca.fit_transform(X)\n",
    "    \n",
    "    for label in set(Y):\n",
    "        X_class = new_X[Y == label]\n",
    "        plt.scatter(X_class[:, 0], X_class[:, 1], label=label)\n",
    "    plt.title('PCA of iris dataset', weight = 'bold')\n",
    "    plt.legend()"
   ]
  },
  {
   "cell_type": "code",
   "execution_count": 16,
   "id": "4092a8f1",
   "metadata": {},
   "outputs": [
    {
     "data": {
      "text/plain": [
       "Text(0.5, 1.0, 'Component-wise and Cumulative Explained Variance')"
      ]
     },
     "execution_count": 16,
     "metadata": {},
     "output_type": "execute_result"
    },
    {
     "data": {
      "image/png": "[encoded data removed]",
      "text/plain": [
       "<Figure size 432x288 with 1 Axes>"
      ]
     },
     "metadata": {
      "needs_background": "light"
     },
     "output_type": "display_data"
    }
   ],
   "source": [
    "#b Vẽ explained variance graph với các chiều của dữ liệu\n",
    "plt.plot(range(2), pca.explained_variance_ratio_)\n",
    "plt.plot(range(2), np.cumsum(pca.explained_variance_ratio_))\n",
    "plt.title(\"Component-wise and Cumulative Explained Variance\")"
   ]
  },
  {
   "cell_type": "markdown",
   "id": "027b339a",
   "metadata": {},
   "source": [
    "# Exercise 4: reduce dimentipon of the iris dataset với thuật toán PCA trong sklearn\n"
   ]
  },
  {
   "cell_type": "code",
   "execution_count": 13,
   "id": "a947cf5a",
   "metadata": {},
   "outputs": [
    {
     "data": {
      "image/png": "[encoded data removed]",
      "text/plain": [
       "<Figure size 432x288 with 1 Axes>"
      ]
     },
     "metadata": {
      "needs_background": "light"
     },
     "output_type": "display_data"
    }
   ],
   "source": [
    "data = pd.read_csv('iris (1).csv')\n",
    "from sklearn.decomposition import PCA\n",
    "if __name__ == \"__main__\":\n",
    "    data = data\n",
    "    X = data[[\"sepal_length\", \"sepal_width\", \"petal_length\", \"petal_width\"]].to_numpy()\n",
    "    Y = data[\"species\"].to_numpy()\n",
    "    pca = PCA (n_components = 2 )\n",
    "    new_X = pca.fit_transform(X)\n",
    "    \n",
    "    for label in set(Y):\n",
    "        X_class = new_X[Y == label]\n",
    "        plt.scatter(X_class[:, 0], X_class[:, 1], label=label)\n",
    "    plt.title('PCA of iris dataset', weight = 'bold')\n",
    "    plt.legend()"
   ]
  },
  {
   "cell_type": "markdown",
   "id": "61ef6afc",
   "metadata": {},
   "source": [
    "# => Has the same result with exercise 3"
   ]
  },
  {
   "cell_type": "code",
   "execution_count": null,
   "id": "1986db27",
   "metadata": {},
   "outputs": [],
   "source": []
  },
  {
   "cell_type": "code",
   "execution_count": null,
   "id": "fe6e43f2",
   "metadata": {},
   "outputs": [],
   "source": []
  }
 ],
 "metadata": {
  "kernelspec": {
   "display_name": "Python 3 (ipykernel)",
   "language": "python",
   "name": "python3"
  },
  "language_info": {
   "codemirror_mode": {
    "name": "ipython",
    "version": 3
   },
   "file_extension": ".py",
   "mimetype": "text/x-python",
   "name": "python",
   "nbconvert_exporter": "python",
   "pygments_lexer": "ipython3",
   "version": "3.9.12"
  }
 },
 "nbformat": 4,
 "nbformat_minor": 5
}
