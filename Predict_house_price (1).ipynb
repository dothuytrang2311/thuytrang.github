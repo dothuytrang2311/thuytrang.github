{
 "cells": [
  {
   "cell_type": "markdown",
   "id": "f08b5e5c",
   "metadata": {},
   "source": [
    "# bài 1:\n",
    "\n",
    "Cho phương trình f(x)= x^2, hãy sử dụng thuật toán gradient descent để tối ưu. Sau đó vẽ đồ thị hàm f(x) sau 10 lần cập nhật bước 2 với:\n",
    "- Lr = 0.2\n",
    "- Lr = 2"
   ]
  },
  {
   "cell_type": "code",
   "execution_count": 19,
   "id": "b944ac50",
   "metadata": {},
   "outputs": [],
   "source": [
    "import numpy as np\n",
    "import pandas as pd\n",
    "import matplotlib.pyplot as plt\n",
    "from sklearn.datasets import make_regression\n",
    "import math"
   ]
  },
  {
   "cell_type": "markdown",
   "id": "20b402e6",
   "metadata": {},
   "source": [
    "We have function: f(x) = x^2 => f'(x) = 2x\n",
    "Giả sử bắt đầu từ một điểm x_o nào đó, tại vòng lặp thứ t, Update:\n",
    "X_(t+1) = X_t - lr*f'(x)\n",
    "\n",
    "Tiếp theo, viết các hàm số :\n",
    "- grad để tính đạo hàm\n",
    "- cost để tính giá trị của hàm số. Hàm này không sử dụng trong thuật toán nhưng thường được dùng để kiểm tra việc tính đạo hàm của đúng không hoặc để xem giá trị của hàm số có giảm theo mỗi vòng lặp hay không.\n",
    "- myGD1 là phần chính thực hiện thuật toán Gradient Desent nêu phía trên. Đầu vào của hàm số này là learning rate và điểm bắt đầu. Thuật toán dừng lại khi đạo hàm có độ lớn đủ nhỏ.\n"
   ]
  },
  {
   "cell_type": "code",
   "execution_count": 10,
   "id": "b7c5bfa7",
   "metadata": {},
   "outputs": [],
   "source": [
    "from __future__ import division, print_function, unicode_literals\n",
    "from matplotlib.animation import FuncAnimation"
   ]
  },
  {
   "cell_type": "code",
   "execution_count": 3,
   "id": "f749bb7f",
   "metadata": {},
   "outputs": [],
   "source": [
    "def grad(x):\n",
    "    return 2*x\n",
    "def cost(x):\n",
    "    return x**2\n",
    "def myGD1(lr, x0):\n",
    "    x = [x0]\n",
    "    for it in range(100):\n",
    "        x_new = x[-1] - lr*grad(x[-1])\n",
    "        if abs(grad(x_new)) < 1e-3:\n",
    "            break\n",
    "        x.append(x_new)\n",
    "    return (x, it)"
   ]
  },
  {
   "cell_type": "markdown",
   "id": "0ae19f14",
   "metadata": {},
   "source": [
    "Sau khi có các hàm cần thiết, thử tìm nghiệm với các điểm khởi tạo khác nhau là x_o = 5; x_o = -5"
   ]
  },
  {
   "cell_type": "code",
   "execution_count": 4,
   "id": "9c0bde56",
   "metadata": {},
   "outputs": [
    {
     "name": "stdout",
     "output_type": "stream",
     "text": [
      "Solution x1 = -0.000532, cost = 0.000000, obtained after 41 iterations\n",
      "Solution x2 = 0.000532, cost = 0.000000, obtained after 41 iterations\n"
     ]
    }
   ],
   "source": [
    "(x1, it1) = myGD1(.1, -5)\n",
    "(x2, it2) = myGD1(.1, 5)\n",
    "print('Solution x1 = %f, cost = %f, obtained after %d iterations'%(x1[-1], cost(x1[-1]), it1))\n",
    "print('Solution x2 = %f, cost = %f, obtained after %d iterations'%(x2[-1], cost(x2[-1]), it2))"
   ]
  },
  {
   "cell_type": "markdown",
   "id": "265a1cd9",
   "metadata": {},
   "source": [
    "Vậy là với các điểm ban đầu khác nhau, thuật toán của chúng ta tìm được nghiệm gần giống nhau, mặc dù với tốc độ hội tụ khác nhau"
   ]
  },
  {
   "cell_type": "markdown",
   "id": "46440b38",
   "metadata": {},
   "source": [
    "Tốc độ hội tụ của GD không những phụ thuộc vào điểm khởi tạo ban đầu mà còn phụ thuộc vào learning rate. Dưới đây là một ví dụ với cùng điểm khởi tạo x_o = -5 nhưng learning rate khác nhau:"
   ]
  },
  {
   "cell_type": "code",
   "execution_count": 32,
   "id": "435dab4a",
   "metadata": {},
   "outputs": [
    {
     "name": "stdout",
     "output_type": "stream",
     "text": [
      "Solution x3 = -0.000508, cost = 0.000000, obtained after 18 iterations\n",
      "Solution x4 = -2576887603660056783232258173556455595840307724288.000000, cost = 6640349721896869070323637798345196238790085728800045141398932368292448576929195459708050798018560.000000, obtained after 99 iterations\n"
     ]
    }
   ],
   "source": [
    "(x3, it3) = myGD1(.2, -5)\n",
    "(x4, it4) = myGD1(2, -5)\n",
    "print('Solution x3 = %f, cost = %f, obtained after %d iterations'%(x3[-1], cost(x3[-1]), it3))\n",
    "print('Solution x4 = %f, cost = %f, obtained after %d iterations'%(x4[-1], cost(x4[-1]), it4))"
   ]
  },
  {
   "cell_type": "code",
   "execution_count": 33,
   "id": "fedc96a1",
   "metadata": {},
   "outputs": [
    {
     "data": {
      "text/plain": [
       "[<matplotlib.lines.Line2D at 0x26fe20fec70>]"
      ]
     },
     "execution_count": 33,
     "metadata": {},
     "output_type": "execute_result"
    },
    {
     "data": {
      "image/png": "[encoded data removed]",
      "text/plain": [
       "<Figure size 576x432 with 1 Axes>"
      ]
     },
     "metadata": {
      "needs_background": "light"
     },
     "output_type": "display_data"
    }
   ],
   "source": [
    "fig = plt.figure(figsize=[8, 6])\n",
    "ax = plt.axes(xlim=(-8, 8), ylim=(-10, 60))\n",
    "ax.text(-6, 55, 'Hàm số $y=x^2$, $lr=0.2$, $precision=0.00001$, $start=-10$', fontsize=12)\n",
    "label_1 = ax.text(-6, 50, '', fontsize=12)\n",
    "label_2 = ax.text(0, 30, '', fontsize=20)\n",
    "\n",
    "line, = ax.plot([], [], 'ro-', lw=5)\n",
    "x = np.linspace(start=-8, stop=8, num=100)\n",
    "y = cost(x)\n",
    "ax.plot(x,y)"
   ]
  },
  {
   "cell_type": "code",
   "execution_count": 14,
   "id": "8aabb9ea",
   "metadata": {},
   "outputs": [],
   "source": [
    "x_1 = 10\n",
    "x_0 = 0\n",
    "lr = 0.2\n",
    "precision = 0.00001"
   ]
  },
  {
   "cell_type": "markdown",
   "id": "5c9e4376",
   "metadata": {},
   "source": [
    "- x_0 chứa giá trị trước đó\n",
    "- x_1 là giá trị trong bước tiếp theo\n",
    "- step_multiplier là hệ số kết hợp với độ dốc(learning rate). \n",
    "\n",
    "Biến precision quyết định khi nào dừng thuật toán, nó là độ chính xác trong phép tính xấp xỉ mà chúng ta mong muốn, ở đây độ chính xác đến 1/100k.\n",
    "Tiếp theo, chúng ta sẽ cài đặt thuật toán Gradient Descent kết hợp với định nghĩa các phần vẽ hoạt họa:"
   ]
  },
  {
   "cell_type": "code",
   "execution_count": 17,
   "id": "35ad697d",
   "metadata": {},
   "outputs": [],
   "source": [
    "\n",
    "import networkx as nx\n",
    "from matplotlib.animation import FuncAnimation, PillowWriter "
   ]
  },
  {
   "cell_type": "code",
   "execution_count": 18,
   "id": "2ba072ce",
   "metadata": {},
   "outputs": [],
   "source": [
    "def animate(i):\n",
    "    global x_0, x_1\n",
    "    step_size = abs(x_1 - x_0)\n",
    "\n",
    "    if step_size > precision:\n",
    "        x_0 = x_1\n",
    "        gradient = grad(x_0)\n",
    "        x_1 = x_0 - lr * gradient\n",
    "        x = [x_0, x_1]\n",
    "        y = [cost(x_0), cost(x_1)]\n",
    "        line.set_data(x, y)\n",
    "        label_2.set_text(str(i))\n",
    "    label_1.set_text('Lần: ' + str(i) + '/50, cost:' + str(cost(x_1)) + ', slope:' + str(grad(x_1)))\n",
    "    return line, "
   ]
  },
  {
   "cell_type": "code",
   "execution_count": 26,
   "id": "8fc77063",
   "metadata": {},
   "outputs": [
    {
     "name": "stdout",
     "output_type": "stream",
     "text": [
      "Collecting animation\n",
      "  Downloading animation-0.0.7-py2.py3-none-any.whl (5.3 kB)\n",
      "Collecting pychalk\n",
      "  Downloading pychalk-2.0.1.tar.gz (17 kB)\n",
      "Requirement already satisfied: six>=1.11.0 in c:\\users\\admin\\anaconda3\\lib\\site-packages (from pychalk->animation) (1.16.0)\n",
      "Building wheels for collected packages: pychalk\n",
      "  Building wheel for pychalk (setup.py): started\n",
      "  Building wheel for pychalk (setup.py): finished with status 'done'\n",
      "  Created wheel for pychalk: filename=pychalk-2.0.1-py3-none-any.whl size=7667 sha256=859d063a655c70349dcb95970e5209bce7f2beb16f1f401c4726692d48b59024\n",
      "  Stored in directory: c:\\users\\admin\\appdata\\local\\pip\\cache\\wheels\\d7\\19\\42\\91e862a7e0b8f8637c7b11bae6ed7c63db5e46103ed42bb633\n",
      "Successfully built pychalk\n",
      "Installing collected packages: pychalk, animation\n",
      "Successfully installed animation-0.0.7 pychalk-2.0.1\n"
     ]
    }
   ],
   "source": [
    "!pip install animation"
   ]
  },
  {
   "cell_type": "code",
   "execution_count": 29,
   "id": "69d28ee1",
   "metadata": {},
   "outputs": [
    {
     "name": "stderr",
     "output_type": "stream",
     "text": [
      "MovieWriter imagemagick unavailable; using Pillow instead.\n"
     ]
    }
   ],
   "source": [
    "from matplotlib.animation import FuncAnimation\n",
    "#animation.convert_path:  magick\n",
    "anim = FuncAnimation(fig, animate, frames=50, interval=400, blit=True)\n",
    "anim.save('gradient_descent.gif', writer='imagemagick')"
   ]
  },
  {
   "cell_type": "code",
   "execution_count": null,
   "id": "28922e99",
   "metadata": {},
   "outputs": [],
   "source": []
  },
  {
   "cell_type": "markdown",
   "id": "fa384b88",
   "metadata": {},
   "source": [
    "# Bài 2: \n",
    "Cho dataset dự đoán giá nhà dựa vào diện tích \n",
    "- Implement thuật toán linear regression với dữ liệu trên\n",
    "- Chỉnh learning rate cho dữ liệu trên, chọn 1 learning rate lớn bị overshoot, 1 learning vừa, và 1 learning rate nhỏ. Với mỗi learning rate, vẽ đồ thị loss tương ứng\n",
    "- Chia tập train/test tỉ lệ 80/20, tính các chỉ số MSE, RSME, MAE, MAPE trên tập test\n"
   ]
  },
  {
   "cell_type": "code",
   "execution_count": 29,
   "id": "87dc0a8c",
   "metadata": {},
   "outputs": [
    {
     "data": {
      "text/html": [
       "<div>\n",
       "<style scoped>\n",
       "    .dataframe tbody tr th:only-of-type {\n",
       "        vertical-align: middle;\n",
       "    }\n",
       "\n",
       "    .dataframe tbody tr th {\n",
       "        vertical-align: top;\n",
       "    }\n",
       "\n",
       "    .dataframe thead th {\n",
       "        text-align: right;\n",
       "    }\n",
       "</style>\n",
       "<table border=\"1\" class=\"dataframe\">\n",
       "  <thead>\n",
       "    <tr style=\"text-align: right;\">\n",
       "      <th></th>\n",
       "      <th>Diện tích</th>\n",
       "      <th>Giá</th>\n",
       "    </tr>\n",
       "  </thead>\n",
       "  <tbody>\n",
       "    <tr>\n",
       "      <th>8</th>\n",
       "      <td>49.3103</td>\n",
       "      <td>748.918</td>\n",
       "    </tr>\n",
       "    <tr>\n",
       "      <th>9</th>\n",
       "      <td>51.7241</td>\n",
       "      <td>757.881</td>\n",
       "    </tr>\n",
       "    <tr>\n",
       "      <th>10</th>\n",
       "      <td>54.1379</td>\n",
       "      <td>831.004</td>\n",
       "    </tr>\n",
       "    <tr>\n",
       "      <th>11</th>\n",
       "      <td>56.5517</td>\n",
       "      <td>855.409</td>\n",
       "    </tr>\n",
       "    <tr>\n",
       "      <th>12</th>\n",
       "      <td>58.9655</td>\n",
       "      <td>866.707</td>\n",
       "    </tr>\n",
       "  </tbody>\n",
       "</table>\n",
       "</div>"
      ],
      "text/plain": [
       "    Diện tích      Giá\n",
       "8     49.3103  748.918\n",
       "9     51.7241  757.881\n",
       "10    54.1379  831.004\n",
       "11    56.5517  855.409\n",
       "12    58.9655  866.707"
      ]
     },
     "execution_count": 29,
     "metadata": {},
     "output_type": "execute_result"
    }
   ],
   "source": [
    "df = pd.read_csv('data_linear.csv')\n",
    "df[df['Diện tích'] >= 48].head()"
   ]
  },
  {
   "cell_type": "markdown",
   "id": "43a38411",
   "metadata": {},
   "source": [
    "### Test1: Learning rate vừa"
   ]
  },
  {
   "cell_type": "code",
   "execution_count": 23,
   "id": "7bd5eca2",
   "metadata": {},
   "outputs": [
    {
     "name": "stdout",
     "output_type": "stream",
     "text": [
      "[13929872.64455245]\n",
      "[10306582.37422079]\n",
      "[7625999.18237673]\n",
      "[5642849.69326854]\n",
      "[4175675.71851866]\n",
      "[3090230.83195734]\n",
      "[2287196.82094014]\n",
      "[1693096.06938209]\n",
      "[1253568.35550934]\n",
      "[928396.89128833]\n",
      "[687828.48611463]\n",
      "[509851.12972016]\n",
      "[378179.89312088]\n",
      "[280766.8575313]\n",
      "[208698.72973386]\n",
      "[155381.27570385]\n",
      "[115935.94816237]\n",
      "[86753.4994753]\n",
      "[65163.7354763]\n",
      "[49191.19268689]\n",
      "[37374.38339803]\n",
      "[28632.06953731]\n",
      "[22164.32937972]\n",
      "[17379.36470576]\n",
      "[13839.35126131]\n",
      "[11220.37783611]\n",
      "[9282.80838638]\n",
      "[7849.35533562]\n",
      "[6788.85776037]\n",
      "[6004.28016513]\n",
      "[5423.83373397]\n",
      "[4994.40765352]\n",
      "[4676.70947326]\n",
      "[4441.66984614]\n",
      "[4267.78268312]\n",
      "[4139.13734594]\n",
      "[4043.96282366]\n",
      "[3973.55068504]\n",
      "[3921.4582571]\n",
      "[3882.91912046]\n",
      "[3854.40698198]\n",
      "[3833.3130189]\n",
      "[3817.70717153]\n",
      "[3806.16154282]\n",
      "[3797.61974572]\n",
      "[3791.30024382]\n",
      "[3786.62484071]\n",
      "[3783.16577503]\n",
      "[3780.60658031]\n",
      "[3778.71312826]\n",
      "[3777.31220606]\n",
      "[3776.27566738]\n",
      "[3775.50870698]\n",
      "[3774.94118601]\n",
      "[3774.52121437]\n",
      "[3774.21040269]\n",
      "[3773.98034975]\n",
      "[3773.81004376]\n",
      "[3773.68393976]\n",
      "[3773.59053729]\n",
      "[3773.52132808]\n",
      "[3773.47001751]\n",
      "[3773.43194874]\n",
      "[3773.4036765]\n",
      "[3773.38265195]\n",
      "[3773.36698937]\n",
      "[3773.3552937]\n",
      "[3773.34653282]\n",
      "[3773.33994316]\n",
      "[3773.33495981]\n",
      "[3773.33116485]\n",
      "[3773.32824908]\n",
      "[3773.32598375]\n",
      "[3773.32419963]\n",
      "[3773.32277153]\n",
      "[3773.32160681]\n",
      "[3773.32063694]\n",
      "[3773.31981124]\n",
      "[3773.31909219]\n",
      "[3773.31845205]\n",
      "[3773.31787028]\n",
      "[3773.3173317]\n",
      "[3773.31682507]\n",
      "[3773.31634209]\n",
      "[3773.31587659]\n",
      "[3773.31542403]\n",
      "[3773.31498104]\n",
      "[3773.31454514]\n",
      "[3773.31411448]\n",
      "[3773.3136877]\n",
      "[3773.31326379]\n",
      "[3773.312842]\n",
      "[3773.31242178]\n",
      "[3773.31200273]\n",
      "[3773.31158454]\n",
      "[3773.31116698]\n",
      "[3773.3107499]\n",
      "[3773.31033317]\n",
      "[3773.3099167]\n"
     ]
    },
    {
     "data": {
      "image/png": "[encoded data removed]",
      "text/plain": [
       "<Figure size 432x288 with 1 Axes>"
      ]
     },
     "metadata": {
      "needs_background": "light"
     },
     "output_type": "display_data"
    },
    {
     "name": "stdout",
     "output_type": "stream",
     "text": [
      "Giá nhà cho 50m^2 là :  [755.68795083]\n"
     ]
    }
   ],
   "source": [
    "data = pd.read_csv('data_linear.csv').values\n",
    "\n",
    "N = data.shape[0]\n",
    "x = data[:, 0].reshape(-1, 1)\n",
    "y = data[:, 1].reshape(-1, 1)\n",
    "plt.scatter(x, y)\n",
    "plt.xlabel('mét vuông')\n",
    "plt.ylabel('giá')\n",
    "\n",
    "x = np.hstack((np.ones((N, 1)), x))\n",
    "\n",
    "w = np.array([0.,1.]).reshape(-1,1)\n",
    "\n",
    "numOfIteration = 100\n",
    "cost = np.zeros((numOfIteration,1))\n",
    "learning_rate = 0.000001\n",
    "for i in range(1, numOfIteration):\n",
    "    r = np.dot(x, w) - y\n",
    "    cost[i] = 0.5*np.sum(r*r)\n",
    "    w[0] -= learning_rate*np.sum(r)\n",
    "    # correct the shape dimension\n",
    "    w[1] -= learning_rate*np.sum(np.multiply(r, x[:,1].reshape(-1,1)))\n",
    "    print(cost[i])\n",
    "predict = np.dot(x, w)\n",
    "plt.plot((x[0][1], x[N-1][1]),(predict[0], predict[N-1]), 'r')\n",
    "plt.show()\n",
    "\n",
    "x1 = 50\n",
    "y1 = w[0] + w[1] * 50\n",
    "print('Giá nhà cho 50m^2 là : ', y1)"
   ]
  },
  {
   "cell_type": "markdown",
   "id": "dd013d17",
   "metadata": {},
   "source": [
    "#### Predict price for the house that have 50m^2 is 755.688 close to actual value (748.918, 757.881)"
   ]
  },
  {
   "cell_type": "markdown",
   "id": "bcd724ac",
   "metadata": {},
   "source": [
    "### Test2: Learning rate lớn  => overshoot"
   ]
  },
  {
   "cell_type": "code",
   "execution_count": 18,
   "id": "84cc8d31",
   "metadata": {},
   "outputs": [
    {
     "name": "stderr",
     "output_type": "stream",
     "text": [
      "C:\\Users\\Admin\\AppData\\Local\\Temp\\ipykernel_30996\\46953607.py:16: RuntimeWarning: overflow encountered in multiply\n",
      "  cost[i] = 0.5*np.sum(r*r)\n"
     ]
    },
    {
     "data": {
      "image/png": "[encoded data removed]",
      "text/plain": [
       "<Figure size 432x288 with 1 Axes>"
      ]
     },
     "metadata": {
      "needs_background": "light"
     },
     "output_type": "display_data"
    },
    {
     "name": "stdout",
     "output_type": "stream",
     "text": [
      "Giá nhà cho 50m^2 là :  [9.27834008e+214]\n"
     ]
    }
   ],
   "source": [
    "x = data[:, 0].reshape(-1, 1)\n",
    "y = data[:, 1].reshape(-1, 1)\n",
    "plt.scatter(x, y)\n",
    "plt.xlabel('mét vuông')\n",
    "plt.ylabel('giá')\n",
    "\n",
    "x = np.hstack((np.ones((N, 1)), x))\n",
    "\n",
    "w = np.array([0.,1.]).reshape(-1,1)\n",
    "\n",
    "numOfIteration = 100\n",
    "cost = np.zeros((numOfIteration,1))\n",
    "learning_rate = 0.001\n",
    "for i in range(1, numOfIteration):\n",
    "    r = np.dot(x, w) - y\n",
    "    cost[i] = 0.5*np.sum(r*r)\n",
    "    w[0] -= learning_rate*np.sum(r)\n",
    "    # correct the shape dimension\n",
    "    w[1] -= learning_rate*np.sum(np.multiply(r, x[:,1].reshape(-1,1)))\n",
    "    #print(cost[i])\n",
    "predict = np.dot(x, w)\n",
    "plt.plot((x[0][1], x[N-1][1]),(predict[0], predict[N-1]), 'r')\n",
    "plt.show()\n",
    "\n",
    "x1 = 50\n",
    "y1 = w[0] + w[1] * 50\n",
    "print('Giá nhà cho 50m^2 là : ', y1)"
   ]
  },
  {
   "cell_type": "markdown",
   "id": "913b158b",
   "metadata": {},
   "source": [
    "#### Predict price for the house that have 50m^2 is 9.278 extremely small compare to actual value (748.918, 757.881)"
   ]
  },
  {
   "cell_type": "markdown",
   "id": "853c3f2e",
   "metadata": {},
   "source": [
    "### Learning rate nhỏ"
   ]
  },
  {
   "cell_type": "code",
   "execution_count": 17,
   "id": "0dccf8f5",
   "metadata": {},
   "outputs": [
    {
     "data": {
      "image/png": "[encoded data removed]",
      "text/plain": [
       "<Figure size 432x288 with 1 Axes>"
      ]
     },
     "metadata": {
      "needs_background": "light"
     },
     "output_type": "display_data"
    },
    {
     "name": "stdout",
     "output_type": "stream",
     "text": [
      "Giá nhà cho 50m^2 là :  [69.2783195]\n"
     ]
    }
   ],
   "source": [
    "x = data[:, 0].reshape(-1, 1)\n",
    "y = data[:, 1].reshape(-1, 1)\n",
    "plt.scatter(x, y)\n",
    "plt.xlabel('mét vuông')\n",
    "plt.ylabel('giá')\n",
    "\n",
    "x = np.hstack((np.ones((N, 1)), x))\n",
    "\n",
    "w = np.array([0.,1.]).reshape(-1,1)\n",
    "\n",
    "numOfIteration = 100\n",
    "cost = np.zeros((numOfIteration,1))\n",
    "learning_rate = 0.000000002\n",
    "for i in range(1, numOfIteration):\n",
    "    r = np.dot(x, w) - y\n",
    "    cost[i] = 0.5*np.sum(r*r)\n",
    "    w[0] -= learning_rate*np.sum(r)\n",
    "    # correct the shape dimension\n",
    "    w[1] -= learning_rate*np.sum(np.multiply(r, x[:,1].reshape(-1,1)))\n",
    "    #print(cost[i])\n",
    "predict = np.dot(x, w)\n",
    "plt.plot((x[0][1], x[N-1][1]),(predict[0], predict[N-1]), 'r')\n",
    "plt.show()\n",
    "\n",
    "x1 = 50\n",
    "y1 = w[0] + w[1] * 50\n",
    "print('Giá nhà cho 50m^2 là : ', y1)"
   ]
  },
  {
   "cell_type": "code",
   "execution_count": 31,
   "id": "90e650cb",
   "metadata": {},
   "outputs": [],
   "source": [
    "#### Predict price for the house that have 50m^2 is 69.278 much small compare to actual value (748.918, 757.881)"
   ]
  },
  {
   "cell_type": "code",
   "execution_count": 34,
   "id": "bf9ade16",
   "metadata": {},
   "outputs": [
    {
     "data": {
      "text/html": [
       "<div>\n",
       "<style scoped>\n",
       "    .dataframe tbody tr th:only-of-type {\n",
       "        vertical-align: middle;\n",
       "    }\n",
       "\n",
       "    .dataframe tbody tr th {\n",
       "        vertical-align: top;\n",
       "    }\n",
       "\n",
       "    .dataframe thead th {\n",
       "        text-align: right;\n",
       "    }\n",
       "</style>\n",
       "<table border=\"1\" class=\"dataframe\">\n",
       "  <thead>\n",
       "    <tr style=\"text-align: right;\">\n",
       "      <th></th>\n",
       "      <th>Diện tích</th>\n",
       "      <th>Giá</th>\n",
       "    </tr>\n",
       "  </thead>\n",
       "  <tbody>\n",
       "    <tr>\n",
       "      <th>19</th>\n",
       "      <td>75.8621</td>\n",
       "      <td>1138.690</td>\n",
       "    </tr>\n",
       "    <tr>\n",
       "      <th>2</th>\n",
       "      <td>34.8276</td>\n",
       "      <td>535.104</td>\n",
       "    </tr>\n",
       "    <tr>\n",
       "      <th>8</th>\n",
       "      <td>49.3103</td>\n",
       "      <td>748.918</td>\n",
       "    </tr>\n",
       "    <tr>\n",
       "      <th>18</th>\n",
       "      <td>73.4483</td>\n",
       "      <td>1103.880</td>\n",
       "    </tr>\n",
       "    <tr>\n",
       "      <th>15</th>\n",
       "      <td>66.2069</td>\n",
       "      <td>995.531</td>\n",
       "    </tr>\n",
       "  </tbody>\n",
       "</table>\n",
       "</div>"
      ],
      "text/plain": [
       "    Diện tích       Giá\n",
       "19    75.8621  1138.690\n",
       "2     34.8276   535.104\n",
       "8     49.3103   748.918\n",
       "18    73.4483  1103.880\n",
       "15    66.2069   995.531"
      ]
     },
     "execution_count": 34,
     "metadata": {},
     "output_type": "execute_result"
    }
   ],
   "source": [
    "y_train.head()\n",
    "#"
   ]
  },
  {
   "cell_type": "code",
   "execution_count": 35,
   "id": "42768eb6",
   "metadata": {},
   "outputs": [],
   "source": [
    "X, y = X_train, y_train"
   ]
  },
  {
   "cell_type": "code",
   "execution_count": 46,
   "id": "2c311286",
   "metadata": {},
   "outputs": [
    {
     "name": "stdout",
     "output_type": "stream",
     "text": [
      "Collecting torch\n",
      "  Downloading torch-2.0.1-cp39-cp39-win_amd64.whl (172.4 MB)\n",
      "Requirement already satisfied: filelock in c:\\users\\admin\\anaconda3\\lib\\site-packages (from torch) (3.6.0)\n",
      "Requirement already satisfied: typing-extensions in c:\\users\\admin\\anaconda3\\lib\\site-packages (from torch) (4.1.1)\n",
      "Requirement already satisfied: networkx in c:\\users\\admin\\anaconda3\\lib\\site-packages (from torch) (2.7.1)\n",
      "Requirement already satisfied: jinja2 in c:\\users\\admin\\anaconda3\\lib\\site-packages (from torch) (2.11.3)\n",
      "Requirement already satisfied: sympy in c:\\users\\admin\\anaconda3\\lib\\site-packages (from torch) (1.10.1)\n",
      "Requirement already satisfied: MarkupSafe>=0.23 in c:\\users\\admin\\anaconda3\\lib\\site-packages (from jinja2->torch) (2.0.1)\n",
      "Requirement already satisfied: mpmath>=0.19 in c:\\users\\admin\\anaconda3\\lib\\site-packages (from sympy->torch) (1.2.1)\n",
      "Installing collected packages: torch\n",
      "Successfully installed torch-2.0.1\n",
      "Note: you may need to restart the kernel to use updated packages.\n"
     ]
    }
   ],
   "source": [
    "pip install torch"
   ]
  },
  {
   "cell_type": "code",
   "execution_count": 60,
   "id": "30b3632e",
   "metadata": {},
   "outputs": [
    {
     "name": "stdout",
     "output_type": "stream",
     "text": [
      "2.0.1+cpu\n"
     ]
    }
   ],
   "source": [
    "import torch\n",
    "print(torch.__version__)"
   ]
  },
  {
   "cell_type": "code",
   "execution_count": 46,
   "id": "432e5b7f",
   "metadata": {},
   "outputs": [
    {
     "name": "stdout",
     "output_type": "stream",
     "text": [
      "(24, 2) (24,)\n",
      "(6, 2) (6,)\n"
     ]
    }
   ],
   "source": [
    "from sklearn.model_selection import train_test_split\n",
    "\n",
    "df_train, df_test = train_test_split(df, test_size=0.2)\n",
    "X_train = df_train.copy()\n",
    "y_train = X_train['Giá']\n",
    "\n",
    "X_test = df_test.copy()\n",
    "y_test = X_test['Giá']\n",
    "print(X_train.shape, y_train.shape)\n",
    "print(X_test.shape, y_test.shape)"
   ]
  },
  {
   "cell_type": "code",
   "execution_count": null,
   "id": "605e526e",
   "metadata": {},
   "outputs": [],
   "source": []
  },
  {
   "attachments": {
    "image.png": {
     "image/png": "[encoded data removed]"
    }
   },
   "cell_type": "markdown",
   "id": "bb025ad9",
   "metadata": {},
   "source": [
    "###### ![image.png](attachment:image.png)"
   ]
  },
  {
   "cell_type": "code",
   "execution_count": 52,
   "id": "9d138c2e",
   "metadata": {},
   "outputs": [
    {
     "name": "stdout",
     "output_type": "stream",
     "text": [
      "[array([891.15543968]), array([854.68324911]), array([1182.93296426]), array([599.37942609]), array([526.43504494]), array([745.26667739])]\n"
     ]
    }
   ],
   "source": [
    "X = X_test['Diện tích']\n",
    "y_pred = []\n",
    "for x_i in X:\n",
    "    y_i = w[0] + w[1] * x_i\n",
    "    y_pred.append(y_i)\n",
    "\n",
    "print(list(y_pred))"
   ]
  },
  {
   "cell_type": "code",
   "execution_count": 53,
   "id": "6d77a2ae",
   "metadata": {},
   "outputs": [
    {
     "name": "stdout",
     "output_type": "stream",
     "text": [
      "12     866.707\n",
      "11     855.409\n",
      "20    1153.130\n",
      "4      623.418\n",
      "2      535.104\n",
      "8      748.918\n",
      "Name: Giá, dtype: float64\n"
     ]
    }
   ],
   "source": [
    "#y_test = X_test['Giá']\n",
    "y_true = y_test\n",
    "print(y_true)"
   ]
  },
  {
   "cell_type": "markdown",
   "id": "41e0343a",
   "metadata": {},
   "source": [
    "### MSE"
   ]
  },
  {
   "cell_type": "code",
   "execution_count": 59,
   "id": "63c7457e",
   "metadata": {},
   "outputs": [
    {
     "data": {
      "text/plain": [
       "358.8009284097729"
      ]
     },
     "execution_count": 59,
     "metadata": {},
     "output_type": "execute_result"
    }
   ],
   "source": [
    "from sklearn.metrics import mean_squared_error\n",
    "\n",
    "MSE = mean_squared_error(y_true, y_pred)\n",
    "MSE"
   ]
  },
  {
   "cell_type": "markdown",
   "id": "41abdab8",
   "metadata": {},
   "source": [
    "### RMSE"
   ]
  },
  {
   "cell_type": "code",
   "execution_count": 61,
   "id": "6d66b643",
   "metadata": {},
   "outputs": [
    {
     "data": {
      "text/plain": [
       "18.942041294690835"
      ]
     },
     "execution_count": 61,
     "metadata": {},
     "output_type": "execute_result"
    }
   ],
   "source": [
    "from math import sqrt\n",
    "RMSE = sqrt(MSE)\n",
    "RMSE"
   ]
  },
  {
   "cell_type": "markdown",
   "id": "5b42a9c8",
   "metadata": {},
   "source": [
    "### MAE"
   ]
  },
  {
   "cell_type": "code",
   "execution_count": 60,
   "id": "a7578158",
   "metadata": {},
   "outputs": [
    {
     "data": {
      "text/plain": [
       "15.222667736110907"
      ]
     },
     "execution_count": 60,
     "metadata": {},
     "output_type": "execute_result"
    }
   ],
   "source": [
    "from sklearn.metrics import mean_absolute_error #gọi thư viện để tính MAE\n",
    "\n",
    "MAE = mean_absolute_error(y_true, y_pred)\n",
    "MAE"
   ]
  }
 ],
 "metadata": {
  "kernelspec": {
   "display_name": "Python 3 (ipykernel)",
   "language": "python",
   "name": "python3"
  },
  "language_info": {
   "codemirror_mode": {
    "name": "ipython",
    "version": 3
   },
   "file_extension": ".py",
   "mimetype": "text/x-python",
   "name": "python",
   "nbconvert_exporter": "python",
   "pygments_lexer": "ipython3",
   "version": "3.9.12"
  }
 },
 "nbformat": 4,
 "nbformat_minor": 5
}
